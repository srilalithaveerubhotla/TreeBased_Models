{
  "nbformat": 4,
  "nbformat_minor": 0,
  "metadata": {
    "kernelspec": {
      "name": "python3",
      "display_name": "Python 3",
      "language": "python"
    },
    "language_info": {
      "name": "python",
      "version": "3.7.6",
      "mimetype": "text/x-python",
      "codemirror_mode": {
        "name": "ipython",
        "version": 3
      },
      "pygments_lexer": "ipython3",
      "nbconvert_exporter": "python",
      "file_extension": ".py"
    },
    "colab": {
      "name": "xgboost-for-otto-dataset.ipynb",
      "provenance": [],
      "collapsed_sections": [],
      "include_colab_link": true
    }
  },
  "cells": [
    {
      "cell_type": "markdown",
      "metadata": {
        "id": "view-in-github",
        "colab_type": "text"
      },
      "source": [
        "<a href=\"https://colab.research.google.com/github/srilalithaveerubhotla/TreeBased_Models/blob/main/xgboost_for_otto_dataset.ipynb\" target=\"_parent\"><img src=\"https://colab.research.google.com/assets/colab-badge.svg\" alt=\"Open In Colab\"/></a>"
      ]
    },
    {
      "cell_type": "code",
      "metadata": {
        "_uuid": "8f2839f25d086af736a60e9eeb907d3b93b6e0e5",
        "_cell_guid": "b1076dfc-b9ad-4769-8c92-a6c4dae69d19",
        "trusted": true,
        "id": "M2jJ0wCcK5Hk",
        "outputId": "5772e1ab-e8f7-4324-9674-b4aed842c59d"
      },
      "source": [
        "import numpy as np # linear algebra\n",
        "import pandas as pd # data processing, CSV file I/O (e.g. pd.read_csv)\n",
        "from sklearn.preprocessing import LabelEncoder, OneHotEncoder\n",
        "from sklearn.model_selection import train_test_split, StratifiedKFold, GridSearchCV\n",
        "from sklearn.feature_selection import SelectFromModel\n",
        "from sklearn.metrics import accuracy_score, confusion_matrix, classification_report\n",
        "import xgboost as xg\n",
        "from collections import Counter\n",
        "!pip install kneed\n",
        "# kneed is not installed in kaggle. uncomment the above line.\n",
        "from kneed import KneeLocator\n",
        "import matplotlib.pyplot as plt\n",
        "import google_auth_httplib2\n"
      ],
      "execution_count": null,
      "outputs": [
        {
          "output_type": "stream",
          "text": [
            "Collecting kneed\n",
            "  Downloading kneed-0.7.0-py2.py3-none-any.whl (9.4 kB)\n",
            "Requirement already satisfied: matplotlib in /opt/conda/lib/python3.7/site-packages (from kneed) (3.2.1)\n",
            "Requirement already satisfied: scipy in /opt/conda/lib/python3.7/site-packages (from kneed) (1.4.1)\n",
            "Requirement already satisfied: numpy>=1.14.2 in /opt/conda/lib/python3.7/site-packages (from kneed) (1.18.5)\n",
            "Requirement already satisfied: kiwisolver>=1.0.1 in /opt/conda/lib/python3.7/site-packages (from matplotlib->kneed) (1.2.0)\n",
            "Requirement already satisfied: cycler>=0.10 in /opt/conda/lib/python3.7/site-packages (from matplotlib->kneed) (0.10.0)\n",
            "Requirement already satisfied: pyparsing!=2.0.4,!=2.1.2,!=2.1.6,>=2.0.1 in /opt/conda/lib/python3.7/site-packages (from matplotlib->kneed) (2.4.7)\n",
            "Requirement already satisfied: python-dateutil>=2.1 in /opt/conda/lib/python3.7/site-packages (from matplotlib->kneed) (2.8.1)\n",
            "Requirement already satisfied: six in /opt/conda/lib/python3.7/site-packages (from cycler>=0.10->matplotlib->kneed) (1.14.0)\n",
            "Installing collected packages: kneed\n",
            "Successfully installed kneed-0.7.0\n",
            "\u001b[33mWARNING: You are using pip version 20.2.1; however, version 20.2.2 is available.\n",
            "You should consider upgrading via the '/opt/conda/bin/python3.7 -m pip install --upgrade pip' command.\u001b[0m\n"
          ],
          "name": "stdout"
        }
      ]
    },
    {
      "cell_type": "markdown",
      "metadata": {
        "id": "6yL5UkcgK5Hr"
      },
      "source": [
        "### Loading the dataset and data preprocessing"
      ]
    },
    {
      "cell_type": "code",
      "metadata": {
        "_uuid": "d629ff2d2480ee46fbb7e2d37f6b5fab8052498a",
        "_cell_guid": "79c7e3d0-c299-4dcb-8224-4455121ee9b0",
        "trusted": true,
        "id": "kKYt_JGXK5Hr",
        "outputId": "e49ef41b-244e-4803-d353-b020143d7c12"
      },
      "source": [
        "# Reading train dataset in the environment.\n",
        "dataset_pd = pd.read_csv(\"/content/drive/My Drive/train.csv\", index_col = 0)\n",
        "print(dataset_pd.shape)\n",
        "# Reading test dataset in the environment.\n",
        "dataset_pd2 = pd.read_csv(\"/content/drive/My Drive/test.csv\", index_col = 0)\n",
        "print(dataset_pd2.shape)"
      ],
      "execution_count": null,
      "outputs": [
        {
          "output_type": "stream",
          "text": [
            "(61878, 94)\n",
            "(144368, 93)\n"
          ],
          "name": "stdout"
        }
      ]
    },
    {
      "cell_type": "code",
      "metadata": {
        "trusted": true,
        "id": "D_Y_EBUrK5Hs"
      },
      "source": [
        "# Creating a predictor matrix (removing the response variable column)\n",
        "dataset_train = dataset_pd.values\n",
        "X = dataset_train[:,0:93] # Predictors\n",
        "y = dataset_train[:,93] # Response \n",
        "\n",
        "# XGBoost do not take a categorical variable as input. We can use LabelEncoder to assign labels to categorical variables.\n",
        "label_encoder = LabelEncoder()\n",
        "label_encoder = label_encoder.fit(y)\n",
        "label_encoder_y = label_encoder.transform(y)"
      ],
      "execution_count": null,
      "outputs": []
    },
    {
      "cell_type": "code",
      "metadata": {
        "trusted": true,
        "id": "JlVJN1cRK5Hs"
      },
      "source": [
        "# Train and test split of the data\n",
        "X_train, X_test, y_train, y_test = train_test_split(X, label_encoder_y, test_size = 0.33, random_state = 7)"
      ],
      "execution_count": null,
      "outputs": []
    },
    {
      "cell_type": "markdown",
      "metadata": {
        "id": "ai5ipcHgK5Hs"
      },
      "source": [
        "### XGBoost Model with default settings"
      ]
    },
    {
      "cell_type": "code",
      "metadata": {
        "trusted": true,
        "id": "HX2XsyNTK5Ht",
        "outputId": "256ae9a4-fdab-4c2e-dfda-fc6011f8ef5b"
      },
      "source": [
        "# Running a XGBoost with default settings.\n",
        "model = xg.XGBClassifier()\n",
        "model.fit(X_train, y_train)"
      ],
      "execution_count": null,
      "outputs": [
        {
          "output_type": "execute_result",
          "data": {
            "text/plain": [
              "XGBClassifier(base_score=0.5, booster='gbtree', colsample_bylevel=1,\n",
              "              colsample_bynode=1, colsample_bytree=1, gamma=0, gpu_id=-1,\n",
              "              importance_type='gain', interaction_constraints='',\n",
              "              learning_rate=0.300000012, max_delta_step=0, max_depth=6,\n",
              "              min_child_weight=1, missing=nan, monotone_constraints='()',\n",
              "              n_estimators=100, n_jobs=0, num_parallel_tree=1,\n",
              "              objective='multi:softprob', random_state=0, reg_alpha=0,\n",
              "              reg_lambda=1, scale_pos_weight=None, subsample=1,\n",
              "              tree_method='exact', validate_parameters=1, verbosity=None)"
            ]
          },
          "metadata": {
            "tags": []
          },
          "execution_count": 6
        }
      ]
    },
    {
      "cell_type": "code",
      "metadata": {
        "trusted": true,
        "id": "f31EJVbDK5Ht",
        "outputId": "c18806e6-652d-430b-88fb-33508c04b442"
      },
      "source": [
        "# Check the accuracy of the model on train and test dataset.\n",
        "accuracy_train = accuracy_score(y_train, model.predict(X_train))\n",
        "print(\"Accuracy on train dataset %.2f%%\" % (accuracy_train * 100))\n",
        "\n",
        "accuracy_test = accuracy_score(y_test, model.predict(X_test))\n",
        "print(\"Accuracy on test dataset %.2f%%\" % (accuracy_test * 100))"
      ],
      "execution_count": null,
      "outputs": [
        {
          "output_type": "stream",
          "text": [
            "Accuracy on train dataset 91.01%\n",
            "Accuracy on test dataset 81.03%\n"
          ],
          "name": "stdout"
        }
      ]
    },
    {
      "cell_type": "code",
      "metadata": {
        "trusted": true,
        "id": "hyNBrFfLK5Ht",
        "outputId": "844d13b1-095c-4ff0-d985-22d207d04a73"
      },
      "source": [
        "# Creating a confusion matrix \n",
        "print(confusion_matrix(y_test, model.predict(X_test)))\n",
        "print(classification_report(y_test, model.predict(X_test)))"
      ],
      "execution_count": null,
      "outputs": [
        {
          "output_type": "stream",
          "text": [
            "[[ 316   25    4    1    2   54   22   96  106]\n",
            " [   5 4543  613   52    8   14   57   13   10]\n",
            " [   1 1214 1343   47    1    3   54   10    3]\n",
            " [   2  306  127  418    9   25   18    2    2]\n",
            " [   0   16    4    0  891    2    4    1    0]\n",
            " [  25   25    4    5    1 4384   52   88   50]\n",
            " [  12   74   68   11    2   76  636   45    7]\n",
            " [  38   33    7    0    1   59   18 2553   36]\n",
            " [  53   32    1    1    0   54    5   58 1462]]\n",
            "              precision    recall  f1-score   support\n",
            "\n",
            "           0       0.70      0.50      0.59       626\n",
            "           1       0.72      0.85      0.78      5315\n",
            "           2       0.62      0.50      0.55      2676\n",
            "           3       0.78      0.46      0.58       909\n",
            "           4       0.97      0.97      0.97       918\n",
            "           5       0.94      0.95      0.94      4634\n",
            "           6       0.73      0.68      0.71       931\n",
            "           7       0.89      0.93      0.91      2745\n",
            "           8       0.87      0.88      0.87      1666\n",
            "\n",
            "    accuracy                           0.81     20420\n",
            "   macro avg       0.80      0.75      0.77     20420\n",
            "weighted avg       0.81      0.81      0.80     20420\n",
            "\n"
          ],
          "name": "stdout"
        }
      ]
    },
    {
      "cell_type": "code",
      "metadata": {
        "trusted": true,
        "id": "NWFffcB_K5Hu",
        "outputId": "b8e35b6c-8006-4d31-fa8c-413989924745"
      },
      "source": [
        "# Running a XGBoost with less column sample.\n",
        "model = xg.XGBClassifier(colsample_bytree = 0.5)\n",
        "model.fit(X_train, y_train)\n",
        "# Check the accuracy of the model on train and test dataset.\n",
        "accuracy_train = accuracy_score(y_train, model.predict(X_train))\n",
        "print(\"Accuracy on train dataset %.2f%%\" % (accuracy_train * 100))\n",
        "\n",
        "accuracy_test = accuracy_score(y_test, model.predict(X_test))\n",
        "print(\"Accuracy on test dataset %.2f%%\" % (accuracy_test * 100))"
      ],
      "execution_count": null,
      "outputs": [
        {
          "output_type": "stream",
          "text": [
            "Accuracy on train dataset 89.92%\n",
            "Accuracy on test dataset 80.83%\n"
          ],
          "name": "stdout"
        }
      ]
    },
    {
      "cell_type": "code",
      "metadata": {
        "trusted": true,
        "id": "4tOBGSVeK5Hu",
        "outputId": "180eff25-f654-4f10-a473-fb1713784df7"
      },
      "source": [
        "Counter(y_test)"
      ],
      "execution_count": null,
      "outputs": [
        {
          "output_type": "execute_result",
          "data": {
            "text/plain": [
              "Counter({8: 1666,\n",
              "         5: 4634,\n",
              "         0: 626,\n",
              "         3: 909,\n",
              "         1: 5315,\n",
              "         4: 918,\n",
              "         7: 2745,\n",
              "         6: 931,\n",
              "         2: 2676})"
            ]
          },
          "metadata": {
            "tags": []
          },
          "execution_count": 11
        }
      ]
    },
    {
      "cell_type": "markdown",
      "metadata": {
        "id": "jVtgebsnK5Hu"
      },
      "source": [
        "### Studying the feature importance and selecting the top variables."
      ]
    },
    {
      "cell_type": "code",
      "metadata": {
        "trusted": true,
        "id": "z6NL9EhmK5Hv"
      },
      "source": [
        "# Storing the feature importance matrix\n",
        "feature_imp = pd.DataFrame(model.feature_importances_, \n",
        "                           index = dataset_pd.drop('target', axis = 1).columns, columns = ['imp'])\n",
        "feature_imp.sort_values(by = 'imp', ascending = False, inplace = True)"
      ],
      "execution_count": null,
      "outputs": []
    },
    {
      "cell_type": "code",
      "metadata": {
        "trusted": true,
        "id": "sYJdXwnwK5Hv",
        "outputId": "af0e9160-f5cb-4de8-d841-90583e0bab0d"
      },
      "source": [
        "# Calculating accuracy considering different threshold for feature importance.\n",
        "num = []\n",
        "score = []\n",
        "for thresh in model.feature_importances_:\n",
        "    selection = SelectFromModel(model, threshold = thresh, prefit = True)\n",
        "    Select_X_train = selection.transform(X_train)\n",
        "    selection_model = xg.XGBClassifier()\n",
        "    selection_model.fit(Select_X_train, y_train)\n",
        "    Select_X_test = selection.transform(X_test)\n",
        "    y_pred = selection_model.predict(Select_X_test)\n",
        "    num.append(Select_X_train.shape[1])\n",
        "    score.append(accuracy_score(y_test, y_pred)* 100)\n",
        "    print(\"Thresh: %.3f, n = %d, Accuracy: %.2f%%\" % (thresh, Select_X_train.shape[1], accuracy_score(y_test, y_pred)* 100))"
      ],
      "execution_count": null,
      "outputs": [
        {
          "output_type": "stream",
          "text": [
            "Thresh: 0.004, n = 62, Accuracy: 80.59%\n",
            "Thresh: 0.005, n = 49, Accuracy: 79.57%\n",
            "Thresh: 0.004, n = 64, Accuracy: 80.57%\n",
            "Thresh: 0.004, n = 63, Accuracy: 80.44%\n",
            "Thresh: 0.003, n = 77, Accuracy: 80.76%\n",
            "Thresh: 0.003, n = 89, Accuracy: 81.04%\n",
            "Thresh: 0.009, n = 28, Accuracy: 75.71%\n",
            "Thresh: 0.008, n = 34, Accuracy: 77.75%\n",
            "Thresh: 0.013, n = 20, Accuracy: 73.63%\n",
            "Thresh: 0.003, n = 82, Accuracy: 81.01%\n",
            "Thresh: 0.111, n = 1, Accuracy: 38.10%\n",
            "Thresh: 0.002, n = 93, Accuracy: 81.03%\n",
            "Thresh: 0.003, n = 74, Accuracy: 80.80%\n",
            "Thresh: 0.024, n = 10, Accuracy: 64.64%\n",
            "Thresh: 0.025, n = 8, Accuracy: 60.34%\n",
            "Thresh: 0.005, n = 59, Accuracy: 80.28%\n",
            "Thresh: 0.011, n = 24, Accuracy: 75.11%\n",
            "Thresh: 0.003, n = 80, Accuracy: 80.94%\n",
            "Thresh: 0.009, n = 31, Accuracy: 76.51%\n",
            "Thresh: 0.005, n = 56, Accuracy: 80.21%\n",
            "Thresh: 0.003, n = 75, Accuracy: 80.67%\n",
            "Thresh: 0.002, n = 91, Accuracy: 80.93%\n",
            "Thresh: 0.010, n = 27, Accuracy: 75.76%\n",
            "Thresh: 0.006, n = 47, Accuracy: 79.53%\n",
            "Thresh: 0.008, n = 37, Accuracy: 78.66%\n",
            "Thresh: 0.026, n = 7, Accuracy: 58.98%\n",
            "Thresh: 0.004, n = 70, Accuracy: 80.63%\n",
            "Thresh: 0.003, n = 88, Accuracy: 81.04%\n",
            "Thresh: 0.005, n = 52, Accuracy: 79.92%\n",
            "Thresh: 0.023, n = 11, Accuracy: 66.06%\n",
            "Thresh: 0.003, n = 84, Accuracy: 80.97%\n",
            "Thresh: 0.005, n = 54, Accuracy: 79.99%\n",
            "Thresh: 0.004, n = 66, Accuracy: 80.49%\n",
            "Thresh: 0.042, n = 4, Accuracy: 54.00%\n",
            "Thresh: 0.010, n = 26, Accuracy: 75.71%\n",
            "Thresh: 0.026, n = 6, Accuracy: 57.79%\n",
            "Thresh: 0.004, n = 65, Accuracy: 80.57%\n",
            "Thresh: 0.005, n = 58, Accuracy: 80.06%\n",
            "Thresh: 0.024, n = 9, Accuracy: 61.93%\n",
            "Thresh: 0.014, n = 17, Accuracy: 71.51%\n",
            "Thresh: 0.008, n = 36, Accuracy: 78.30%\n",
            "Thresh: 0.017, n = 14, Accuracy: 69.17%\n",
            "Thresh: 0.009, n = 33, Accuracy: 77.72%\n",
            "Thresh: 0.003, n = 87, Accuracy: 81.00%\n",
            "Thresh: 0.006, n = 46, Accuracy: 79.28%\n",
            "Thresh: 0.003, n = 78, Accuracy: 80.77%\n",
            "Thresh: 0.016, n = 16, Accuracy: 70.95%\n",
            "Thresh: 0.006, n = 44, Accuracy: 79.30%\n",
            "Thresh: 0.003, n = 85, Accuracy: 80.94%\n",
            "Thresh: 0.009, n = 29, Accuracy: 76.06%\n",
            "Thresh: 0.005, n = 57, Accuracy: 80.20%\n",
            "Thresh: 0.003, n = 76, Accuracy: 80.74%\n",
            "Thresh: 0.017, n = 15, Accuracy: 70.27%\n",
            "Thresh: 0.003, n = 71, Accuracy: 80.50%\n",
            "Thresh: 0.004, n = 61, Accuracy: 80.40%\n",
            "Thresh: 0.008, n = 38, Accuracy: 78.71%\n",
            "Thresh: 0.010, n = 25, Accuracy: 75.26%\n",
            "Thresh: 0.008, n = 35, Accuracy: 78.14%\n",
            "Thresh: 0.013, n = 22, Accuracy: 74.59%\n",
            "Thresh: 0.052, n = 3, Accuracy: 49.96%\n",
            "Thresh: 0.004, n = 68, Accuracy: 80.56%\n",
            "Thresh: 0.009, n = 30, Accuracy: 76.42%\n",
            "Thresh: 0.003, n = 72, Accuracy: 80.64%\n",
            "Thresh: 0.006, n = 45, Accuracy: 79.29%\n",
            "Thresh: 0.002, n = 90, Accuracy: 81.09%\n",
            "Thresh: 0.003, n = 73, Accuracy: 80.68%\n",
            "Thresh: 0.009, n = 32, Accuracy: 77.22%\n",
            "Thresh: 0.021, n = 12, Accuracy: 67.46%\n",
            "Thresh: 0.029, n = 5, Accuracy: 54.85%\n",
            "Thresh: 0.003, n = 83, Accuracy: 81.03%\n",
            "Thresh: 0.005, n = 51, Accuracy: 79.95%\n",
            "Thresh: 0.007, n = 41, Accuracy: 79.12%\n",
            "Thresh: 0.003, n = 79, Accuracy: 80.93%\n",
            "Thresh: 0.003, n = 86, Accuracy: 80.92%\n",
            "Thresh: 0.020, n = 13, Accuracy: 68.10%\n",
            "Thresh: 0.006, n = 42, Accuracy: 79.08%\n",
            "Thresh: 0.007, n = 40, Accuracy: 78.76%\n",
            "Thresh: 0.013, n = 21, Accuracy: 74.00%\n",
            "Thresh: 0.005, n = 50, Accuracy: 79.72%\n",
            "Thresh: 0.005, n = 53, Accuracy: 80.02%\n",
            "Thresh: 0.004, n = 67, Accuracy: 80.62%\n",
            "Thresh: 0.002, n = 92, Accuracy: 80.90%\n",
            "Thresh: 0.005, n = 55, Accuracy: 80.18%\n",
            "Thresh: 0.012, n = 23, Accuracy: 74.88%\n",
            "Thresh: 0.005, n = 60, Accuracy: 80.46%\n",
            "Thresh: 0.013, n = 19, Accuracy: 72.75%\n",
            "Thresh: 0.004, n = 69, Accuracy: 80.54%\n",
            "Thresh: 0.006, n = 43, Accuracy: 79.10%\n",
            "Thresh: 0.003, n = 81, Accuracy: 80.92%\n",
            "Thresh: 0.076, n = 2, Accuracy: 42.95%\n",
            "Thresh: 0.014, n = 18, Accuracy: 72.24%\n",
            "Thresh: 0.007, n = 39, Accuracy: 78.86%\n",
            "Thresh: 0.005, n = 48, Accuracy: 79.44%\n"
          ],
          "name": "stdout"
        }
      ]
    },
    {
      "cell_type": "code",
      "metadata": {
        "trusted": true,
        "id": "8qiZOBQgK5Hv",
        "outputId": "db48262b-892a-4c8d-e56f-d849bd582e21"
      },
      "source": [
        "# Storing the accuracy table for different threshold and then plotting it.\n",
        "accuracy_table = pd.DataFrame({'params' : num, 'accuracy' : score})\n",
        "accuracy_table.sort_values(by = 'accuracy', ascending = False, inplace = True)\n",
        "plt.plot(range(93), accuracy_table['accuracy'])\n",
        "plt.show()"
      ],
      "execution_count": null,
      "outputs": [
        {
          "output_type": "display_data",
          "data": {
            "text/plain": [
              "<Figure size 432x288 with 1 Axes>"
            ],
            "image/png": "[encoded data removed]"
          },
          "metadata": {
            "tags": [],
            "needs_background": "light"
          }
        }
      ]
    },
    {
      "cell_type": "code",
      "metadata": {
        "trusted": true,
        "id": "itkjPqyXK5Hv",
        "outputId": "66fdaa1e-f886-4e2f-b16b-fffb3e35fa8e"
      },
      "source": [
        "# Storing the accuracy table for different threshold and then plotting it.\n",
        "accuracy_table.sort_values(by = 'params', inplace = True)\n",
        "plt.plot(range(93), accuracy_table['accuracy'])\n",
        "plt.show()"
      ],
      "execution_count": null,
      "outputs": [
        {
          "output_type": "display_data",
          "data": {
            "text/plain": [
              "<Figure size 432x288 with 1 Axes>"
            ],
            "image/png": "[encoded data removed]"
          },
          "metadata": {
            "tags": [],
            "needs_background": "light"
          }
        }
      ]
    },
    {
      "cell_type": "code",
      "metadata": {
        "trusted": true,
        "id": "VBC8WGexK5Hw",
        "outputId": "b9d7fb80-e4c8-4e8b-e2d7-e1c5f4e4c340"
      },
      "source": [
        "# We can find the elbow using KneeLocator.\n",
        "kl = KneeLocator(range(1, 94), accuracy_table['accuracy'], curve=\"concave\", direction=\"increasing\")\n",
        "kl.elbow"
      ],
      "execution_count": null,
      "outputs": [
        {
          "output_type": "execute_result",
          "data": {
            "text/plain": [
              "22"
            ]
          },
          "metadata": {
            "tags": []
          },
          "execution_count": 65
        }
      ]
    },
    {
      "cell_type": "code",
      "metadata": {
        "trusted": true,
        "id": "sP84WV5ZK5Hw",
        "outputId": "e3ffb067-a48e-47aa-bcc0-cc8042583396"
      },
      "source": [
        "# We can select 25 top variables and then fit the model again.\n",
        "feature_imp[:25].index"
      ],
      "execution_count": null,
      "outputs": [
        {
          "output_type": "execute_result",
          "data": {
            "text/plain": [
              "Index(['feat_11', 'feat_90', 'feat_60', 'feat_34', 'feat_69', 'feat_36',\n",
              "       'feat_26', 'feat_15', 'feat_39', 'feat_14', 'feat_30', 'feat_68',\n",
              "       'feat_75', 'feat_42', 'feat_53', 'feat_47', 'feat_40', 'feat_91',\n",
              "       'feat_86', 'feat_9', 'feat_78', 'feat_59', 'feat_84', 'feat_17',\n",
              "       'feat_57'],\n",
              "      dtype='object')"
            ]
          },
          "metadata": {
            "tags": []
          },
          "execution_count": 9
        }
      ]
    },
    {
      "cell_type": "code",
      "metadata": {
        "trusted": true,
        "id": "h_cwJN26K5Hw"
      },
      "source": [
        "# Selecting the top 25 variables.\n",
        "data_top25 = dataset_pd[feature_imp[:25].index]\n",
        "X_top25 = data_top25.values"
      ],
      "execution_count": null,
      "outputs": []
    },
    {
      "cell_type": "code",
      "metadata": {
        "trusted": true,
        "id": "vvmOAyEPK5Hw"
      },
      "source": [
        "# Train and test split of the data\n",
        "X_train, X_test, y_train, y_test = train_test_split(X_top25, label_encoder_y, test_size = 0.33, random_state = 7)"
      ],
      "execution_count": null,
      "outputs": []
    },
    {
      "cell_type": "code",
      "metadata": {
        "trusted": true,
        "id": "v-cMHnZkK5Hx",
        "outputId": "f475ebf7-4ffc-4893-e54a-9cd218da48c1"
      },
      "source": [
        "# Running a XGBoost with default settings with only top 25 variables.\n",
        "model = xg.XGBClassifier()\n",
        "model.fit(X_train, y_train)\n",
        "\n",
        "# Check the accuracy of the model on train and test dataset.\n",
        "accuracy_train = accuracy_score(y_train, model.predict(X_train))\n",
        "print(\"Accuracy on train dataset %.2f%%\" % (accuracy_train * 100))\n",
        "\n",
        "accuracy_test = accuracy_score(y_test, model.predict(X_test))\n",
        "print(\"Accuracy on test dataset %.2f%%\" % (accuracy_test * 100))"
      ],
      "execution_count": null,
      "outputs": [
        {
          "output_type": "stream",
          "text": [
            "Accuracy on train dataset 81.45%\n",
            "Accuracy on test dataset 75.01%\n"
          ],
          "name": "stdout"
        }
      ]
    },
    {
      "cell_type": "markdown",
      "metadata": {
        "id": "0Y-bzggxK5Hx"
      },
      "source": [
        "### Hyperparameter Tuning\n",
        "\n",
        "Number of trees and size of the tree."
      ]
    },
    {
      "cell_type": "code",
      "metadata": {
        "trusted": true,
        "id": "3FHfZFjAK5Hx",
        "outputId": "3bdfb25e-2429-48cd-b40b-fe39f2fa0d0a"
      },
      "source": [
        "# Grid Search for number of trees\n",
        "model = xg.XGBClassifier(n_thread = -1)\n",
        "n_estimators = range(100, 500, 50)\n",
        "#max_depth = [2,4,6,8]\n",
        "param_grid = dict(n_estimators = n_estimators)\n",
        "kfold = StratifiedKFold(n_splits = 8, shuffle = True, random_state = 7)\n",
        "grid_search = GridSearchCV(model, param_grid, scoring = \"neg_log_loss\", n_jobs = -1, cv = kfold, verbose = 3)\n",
        "result = grid_search.fit(X_top25, label_encoder_y)"
      ],
      "execution_count": null,
      "outputs": [
        {
          "output_type": "stream",
          "text": [
            "Fitting 8 folds for each of 8 candidates, totalling 64 fits\n"
          ],
          "name": "stdout"
        },
        {
          "output_type": "stream",
          "text": [
            "[Parallel(n_jobs=-1)]: Using backend LokyBackend with 4 concurrent workers.\n",
            "[Parallel(n_jobs=-1)]: Done  24 tasks      | elapsed: 16.3min\n",
            "[Parallel(n_jobs=-1)]: Done  64 out of  64 | elapsed: 78.9min finished\n"
          ],
          "name": "stderr"
        },
        {
          "output_type": "stream",
          "text": [
            "[06:56:30] WARNING: /workspace/src/learner.cc:480: \n",
            "Parameters: { n_thread } might not be used.\n",
            "\n",
            "  This may not be accurate due to some parameters are only used in language bindings but\n",
            "  passed down to XGBoost core.  Or some parameters are not used but slip through this\n",
            "  verification. Please open an issue if you find above cases.\n",
            "\n",
            "\n"
          ],
          "name": "stdout"
        }
      ]
    },
    {
      "cell_type": "code",
      "metadata": {
        "trusted": true,
        "id": "3FsUWLGEK5Hy",
        "outputId": "4647e324-9616-4216-c134-4b89976ad6a9"
      },
      "source": [
        "print(\"Best paramter is %s \" % result.best_params_)"
      ],
      "execution_count": null,
      "outputs": [
        {
          "output_type": "stream",
          "text": [
            "Best paramter is {'n_estimators': 150} \n"
          ],
          "name": "stdout"
        }
      ]
    },
    {
      "cell_type": "code",
      "metadata": {
        "trusted": true,
        "id": "XOcuv0FrK5Hy",
        "outputId": "70b337b0-8957-4ec2-a814-9b11d7827c5d"
      },
      "source": [
        "# Mean score for all the paramters tested\n",
        "pd.DataFrame({\"params\": result.cv_results_['params'], \"mean_score\": result.cv_results_['mean_test_score'],\n",
        "             \"std_score\": result.cv_results_['std_test_score']})"
      ],
      "execution_count": null,
      "outputs": [
        {
          "output_type": "execute_result",
          "data": {
            "text/plain": [
              "                  params  mean_score  std_score\n",
              "0  {'n_estimators': 100}   -0.649558   0.009146\n",
              "1  {'n_estimators': 150}   -0.646608   0.009606\n",
              "2  {'n_estimators': 200}   -0.648438   0.010667\n",
              "3  {'n_estimators': 250}   -0.651808   0.011334\n",
              "4  {'n_estimators': 300}   -0.656364   0.011535\n",
              "5  {'n_estimators': 350}   -0.662481   0.012653\n",
              "6  {'n_estimators': 400}   -0.668584   0.013346\n",
              "7  {'n_estimators': 450}   -0.675704   0.013548"
            ],
            "text/html": [
              "<div>\n",
              "<style scoped>\n",
              "    .dataframe tbody tr th:only-of-type {\n",
              "        vertical-align: middle;\n",
              "    }\n",
              "\n",
              "    .dataframe tbody tr th {\n",
              "        vertical-align: top;\n",
              "    }\n",
              "\n",
              "    .dataframe thead th {\n",
              "        text-align: right;\n",
              "    }\n",
              "</style>\n",
              "<table border=\"1\" class=\"dataframe\">\n",
              "  <thead>\n",
              "    <tr style=\"text-align: right;\">\n",
              "      <th></th>\n",
              "      <th>params</th>\n",
              "      <th>mean_score</th>\n",
              "      <th>std_score</th>\n",
              "    </tr>\n",
              "  </thead>\n",
              "  <tbody>\n",
              "    <tr>\n",
              "      <th>0</th>\n",
              "      <td>{'n_estimators': 100}</td>\n",
              "      <td>-0.649558</td>\n",
              "      <td>0.009146</td>\n",
              "    </tr>\n",
              "    <tr>\n",
              "      <th>1</th>\n",
              "      <td>{'n_estimators': 150}</td>\n",
              "      <td>-0.646608</td>\n",
              "      <td>0.009606</td>\n",
              "    </tr>\n",
              "    <tr>\n",
              "      <th>2</th>\n",
              "      <td>{'n_estimators': 200}</td>\n",
              "      <td>-0.648438</td>\n",
              "      <td>0.010667</td>\n",
              "    </tr>\n",
              "    <tr>\n",
              "      <th>3</th>\n",
              "      <td>{'n_estimators': 250}</td>\n",
              "      <td>-0.651808</td>\n",
              "      <td>0.011334</td>\n",
              "    </tr>\n",
              "    <tr>\n",
              "      <th>4</th>\n",
              "      <td>{'n_estimators': 300}</td>\n",
              "      <td>-0.656364</td>\n",
              "      <td>0.011535</td>\n",
              "    </tr>\n",
              "    <tr>\n",
              "      <th>5</th>\n",
              "      <td>{'n_estimators': 350}</td>\n",
              "      <td>-0.662481</td>\n",
              "      <td>0.012653</td>\n",
              "    </tr>\n",
              "    <tr>\n",
              "      <th>6</th>\n",
              "      <td>{'n_estimators': 400}</td>\n",
              "      <td>-0.668584</td>\n",
              "      <td>0.013346</td>\n",
              "    </tr>\n",
              "    <tr>\n",
              "      <th>7</th>\n",
              "      <td>{'n_estimators': 450}</td>\n",
              "      <td>-0.675704</td>\n",
              "      <td>0.013548</td>\n",
              "    </tr>\n",
              "  </tbody>\n",
              "</table>\n",
              "</div>"
            ]
          },
          "metadata": {
            "tags": []
          },
          "execution_count": 15
        }
      ]
    },
    {
      "cell_type": "code",
      "metadata": {
        "trusted": true,
        "id": "rO9At8vkK5Hz",
        "outputId": "69875b96-a5ae-437d-f980-ed737bc5d1f0"
      },
      "source": [
        "plt.errorbar(n_estimators, result.cv_results_['mean_test_score'], yerr = result.cv_results_['std_test_score'])\n",
        "plt.xlabel(\"n_estimators\")\n",
        "plt.ylabel(\"Log Loss\")\n",
        "plt.show()"
      ],
      "execution_count": null,
      "outputs": [
        {
          "output_type": "display_data",
          "data": {
            "text/plain": [
              "<Figure size 432x288 with 1 Axes>"
            ],
            "image/png": "[encoded data removed]"
          },
          "metadata": {
            "tags": [],
            "needs_background": "light"
          }
        }
      ]
    },
    {
      "cell_type": "code",
      "metadata": {
        "trusted": true,
        "id": "bWAPO8FLK5Hz",
        "outputId": "10ddc481-0e09-40a2-95f1-b373a38effb1"
      },
      "source": [
        "# Grid Search for learning rate\n",
        "model = xg.XGBClassifier()\n",
        "learning_rate = [0.0001, 0.001, 0.01, 0.1, 0.2, 0.3]\n",
        "param_grid = dict(learning_rate = learning_rate, n_estimators = [150])\n",
        "kfold = StratifiedKFold(n_splits = 8, shuffle = True, random_state = 7)\n",
        "grid_search = GridSearchCV(model, param_grid, scoring = \"neg_log_loss\", n_jobs = -1, cv = kfold, verbose = 1)\n",
        "result = grid_search.fit(X, label_encoder_y)"
      ],
      "execution_count": null,
      "outputs": [
        {
          "output_type": "stream",
          "text": [
            "Fitting 8 folds for each of 6 candidates, totalling 48 fits\n"
          ],
          "name": "stdout"
        },
        {
          "output_type": "stream",
          "text": [
            "[Parallel(n_jobs=-1)]: Using backend LokyBackend with 4 concurrent workers.\n",
            "[Parallel(n_jobs=-1)]: Done  48 out of  48 | elapsed: 106.9min finished\n"
          ],
          "name": "stderr"
        }
      ]
    },
    {
      "cell_type": "code",
      "metadata": {
        "trusted": true,
        "id": "gyGQT93nK5Hz",
        "outputId": "9fc5f7e2-dc2f-4e91-dbee-25c65ed87c36"
      },
      "source": [
        "print(\"Best paramter is %s \" % result.best_params_)\n",
        "print(\"Best score is %f\" % result.best_score_)"
      ],
      "execution_count": null,
      "outputs": [
        {
          "output_type": "stream",
          "text": [
            "Best paramter is {'learning_rate': 0.3, 'n_estimators': 150} \n",
            "Best score is -0.478477\n"
          ],
          "name": "stdout"
        }
      ]
    },
    {
      "cell_type": "code",
      "metadata": {
        "trusted": true,
        "id": "zJsWmi_DK5Hz",
        "outputId": "b602f5e3-645d-4405-f6fa-de34d3946c3e"
      },
      "source": [
        "pd.DataFrame({\"params\": result.cv_results_['params'], \"mean_score\": result.cv_results_['mean_test_score'],\n",
        "             \"std_score\": result.cv_results_['std_test_score']})"
      ],
      "execution_count": null,
      "outputs": [
        {
          "output_type": "execute_result",
          "data": {
            "text/plain": [
              "                                           params  mean_score  std_score\n",
              "0  {'learning_rate': 0.0001, 'n_estimators': 150}   -2.162021   0.000148\n",
              "1   {'learning_rate': 0.001, 'n_estimators': 150}   -1.907552   0.001285\n",
              "2    {'learning_rate': 0.01, 'n_estimators': 150}   -1.000469   0.003573\n",
              "3     {'learning_rate': 0.1, 'n_estimators': 150}   -0.513304   0.005049\n",
              "4     {'learning_rate': 0.2, 'n_estimators': 150}   -0.482792   0.004714\n",
              "5     {'learning_rate': 0.3, 'n_estimators': 150}   -0.478477   0.006044"
            ],
            "text/html": [
              "<div>\n",
              "<style scoped>\n",
              "    .dataframe tbody tr th:only-of-type {\n",
              "        vertical-align: middle;\n",
              "    }\n",
              "\n",
              "    .dataframe tbody tr th {\n",
              "        vertical-align: top;\n",
              "    }\n",
              "\n",
              "    .dataframe thead th {\n",
              "        text-align: right;\n",
              "    }\n",
              "</style>\n",
              "<table border=\"1\" class=\"dataframe\">\n",
              "  <thead>\n",
              "    <tr style=\"text-align: right;\">\n",
              "      <th></th>\n",
              "      <th>params</th>\n",
              "      <th>mean_score</th>\n",
              "      <th>std_score</th>\n",
              "    </tr>\n",
              "  </thead>\n",
              "  <tbody>\n",
              "    <tr>\n",
              "      <th>0</th>\n",
              "      <td>{'learning_rate': 0.0001, 'n_estimators': 150}</td>\n",
              "      <td>-2.162021</td>\n",
              "      <td>0.000148</td>\n",
              "    </tr>\n",
              "    <tr>\n",
              "      <th>1</th>\n",
              "      <td>{'learning_rate': 0.001, 'n_estimators': 150}</td>\n",
              "      <td>-1.907552</td>\n",
              "      <td>0.001285</td>\n",
              "    </tr>\n",
              "    <tr>\n",
              "      <th>2</th>\n",
              "      <td>{'learning_rate': 0.01, 'n_estimators': 150}</td>\n",
              "      <td>-1.000469</td>\n",
              "      <td>0.003573</td>\n",
              "    </tr>\n",
              "    <tr>\n",
              "      <th>3</th>\n",
              "      <td>{'learning_rate': 0.1, 'n_estimators': 150}</td>\n",
              "      <td>-0.513304</td>\n",
              "      <td>0.005049</td>\n",
              "    </tr>\n",
              "    <tr>\n",
              "      <th>4</th>\n",
              "      <td>{'learning_rate': 0.2, 'n_estimators': 150}</td>\n",
              "      <td>-0.482792</td>\n",
              "      <td>0.004714</td>\n",
              "    </tr>\n",
              "    <tr>\n",
              "      <th>5</th>\n",
              "      <td>{'learning_rate': 0.3, 'n_estimators': 150}</td>\n",
              "      <td>-0.478477</td>\n",
              "      <td>0.006044</td>\n",
              "    </tr>\n",
              "  </tbody>\n",
              "</table>\n",
              "</div>"
            ]
          },
          "metadata": {
            "tags": []
          },
          "execution_count": 20
        }
      ]
    },
    {
      "cell_type": "code",
      "metadata": {
        "trusted": true,
        "id": "xSXJDQqOK5H0",
        "outputId": "8c1d35cc-00cb-4dc6-8584-a7e5f5466790"
      },
      "source": [
        "plt.errorbar(learning_rate, result.cv_results_['mean_test_score'], yerr = result.cv_results_['std_test_score'])\n",
        "plt.xlabel(\"Learning_rate\")\n",
        "plt.ylabel(\"Log Loss\")\n",
        "plt.show()"
      ],
      "execution_count": null,
      "outputs": [
        {
          "output_type": "display_data",
          "data": {
            "text/plain": [
              "<Figure size 432x288 with 1 Axes>"
            ],
            "image/png": "[encoded data removed]"
          },
          "metadata": {
            "tags": [],
            "needs_background": "light"
          }
        }
      ]
    },
    {
      "cell_type": "markdown",
      "metadata": {
        "id": "mnReIs_kK5H0"
      },
      "source": [
        "Now we have optimized 2 paramters, now we will try to build a XGBoost using these new hyperparamters.\n",
        "\n",
        "First we will try with all the variables and then with top 25 variables."
      ]
    },
    {
      "cell_type": "code",
      "metadata": {
        "trusted": true,
        "id": "0ArxzG0lK5H0",
        "outputId": "8644858e-d794-4d3d-a6e6-0aea12053f78"
      },
      "source": [
        "# Creating a predictor matrix (removing the response variable column)\n",
        "dataset_train = dataset_pd.values\n",
        "X = dataset_train[:,0:93] # Predictors\n",
        "y = dataset_train[:,93] # Response \n",
        "\n",
        "# XGBoost do not take a categorical variable as input. We can use LabelEncoder to assign labels to categorical variables.\n",
        "label_encoder = LabelEncoder()\n",
        "label_encoder = label_encoder.fit(y)\n",
        "label_encoder_y = label_encoder.transform(y)\n",
        "\n",
        "# Train and test split of the data\n",
        "X_train, X_test, y_train, y_test = train_test_split(X, label_encoder_y, test_size = 0.33, random_state = 7)\n",
        "\n",
        "# Running a XGBoost with less column sample.\n",
        "model = xg.XGBClassifier(n_estimators = 150, learning_rate = 0.2)\n",
        "model.fit(X_train, y_train)\n",
        "# Check the accuracy of the model on train and test dataset.\n",
        "accuracy_train = accuracy_score(y_train, model.predict(X_train))\n",
        "print(\"Accuracy on train dataset %.2f%%\" % (accuracy_train * 100))\n",
        "\n",
        "accuracy_test = accuracy_score(y_test, model.predict(X_test))\n",
        "print(\"Accuracy on test dataset %.2f%%\" % (accuracy_test * 100))"
      ],
      "execution_count": null,
      "outputs": [
        {
          "output_type": "stream",
          "text": [
            "Accuracy on train dataset 90.91%\n",
            "Accuracy on test dataset 81.03%\n"
          ],
          "name": "stdout"
        }
      ]
    },
    {
      "cell_type": "code",
      "metadata": {
        "trusted": true,
        "id": "zrqHrBScK5H1",
        "outputId": "1dc2a227-15e1-4011-a1ed-ee6864618a68"
      },
      "source": [
        "# Train and test split of the data\n",
        "X_train, X_test, y_train, y_test = train_test_split(X_top25, label_encoder_y, test_size = 0.33, random_state = 7)\n",
        "\n",
        "# Running a XGBoost with less column sample.\n",
        "model = xg.XGBClassifier(n_estimators = 150, learning_rate = 0.2)\n",
        "model.fit(X_train, y_train)\n",
        "# Check the accuracy of the model on train and test dataset.\n",
        "accuracy_train = accuracy_score(y_train, model.predict(X_train))\n",
        "print(\"Accuracy on train dataset %.2f%%\" % (accuracy_train * 100))\n",
        "\n",
        "accuracy_test = accuracy_score(y_test, model.predict(X_test))\n",
        "print(\"Accuracy on test dataset %.2f%%\" % (accuracy_test * 100))"
      ],
      "execution_count": null,
      "outputs": [
        {
          "output_type": "stream",
          "text": [
            "Accuracy on train dataset 81.23%\n",
            "Accuracy on test dataset 75.40%\n"
          ],
          "name": "stdout"
        }
      ]
    },
    {
      "cell_type": "code",
      "metadata": {
        "trusted": true,
        "id": "k1UWS44MK5H1",
        "outputId": "0c3a38da-2fd3-4fc6-bfb9-355870ea3d00"
      },
      "source": [
        "# Train and test split of the data\n",
        "X_train, X_test, y_train, y_test = train_test_split(X_top25, label_encoder_y, test_size = 0.33, random_state = 7)\n",
        "\n",
        "# Running a XGBoost with less column sample.\n",
        "model = xg.XGBClassifier(n_estimators = 150, learning_rate = 0.2, colsample_bytree = 0.7)\n",
        "model.fit(X_train, y_train)\n",
        "# Check the accuracy of the model on train and test dataset.\n",
        "accuracy_train = accuracy_score(y_train, model.predict(X_train))\n",
        "print(\"Accuracy on train dataset %.2f%%\" % (accuracy_train * 100))\n",
        "\n",
        "accuracy_test = accuracy_score(y_test, model.predict(X_test))\n",
        "print(\"Accuracy on test dataset %.2f%%\" % (accuracy_test * 100))"
      ],
      "execution_count": null,
      "outputs": [
        {
          "output_type": "stream",
          "text": [
            "Accuracy on train dataset 80.69%\n",
            "Accuracy on test dataset 75.26%\n"
          ],
          "name": "stdout"
        }
      ]
    },
    {
      "cell_type": "code",
      "metadata": {
        "trusted": true,
        "id": "GErcKJXOK5H1"
      },
      "source": [
        "dataset_test = dataset_pd2.values\n",
        "# Selecting the top 25 variables.\n",
        "data_top25_test = dataset_pd2[feature_imp[:25].index]\n",
        "dataset_test = data_top25_test.values\n",
        "prediction_sub = model.predict(dataset_test)\n",
        "\n",
        "#dataset_pd2[\"prediction\"] = prediction_sub\n",
        "X_sub = np.array(prediction_sub).reshape(-1,1)\n",
        "onehot_encoder = OneHotEncoder(sparse = False)\n",
        "submission_file = onehot_encoder.fit_transform(X_sub)\n",
        "\n",
        "submission_file_df = pd.DataFrame(submission_file, \n",
        "                                  columns = ['Class_1','Class_2','Class_3','Class_4','Class_5','Class_6',\n",
        "                                            'Class_7','Class_8','Class_9'], index = dataset_pd2.index)\n",
        "\n",
        "submission_file_df.to_csv(\"submission_otto_ver2.csv\")"
      ],
      "execution_count": null,
      "outputs": []
    }
  ]
}